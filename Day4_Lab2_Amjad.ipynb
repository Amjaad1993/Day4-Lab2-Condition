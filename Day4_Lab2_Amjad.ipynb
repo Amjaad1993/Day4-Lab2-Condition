{
 "cells": [
  {
   "cell_type": "code",
   "execution_count": 6,
   "id": "cc3916e5",
   "metadata": {},
   "outputs": [
    {
     "name": "stdout",
     "output_type": "stream",
     "text": [
      "I recommended it, It is good\n"
     ]
    }
   ],
   "source": [
    "mv = \"AAAAA\" #movie name \n",
    "rating = 3 #movie rating\n",
    "pop_score = 72.65 #popularity score\n",
    "mv_dic = {\"movie\": mv, \"rating\": rating, \"pop_score\": pop_score} #movie dictionary\n",
    "\"\"\"Check if the movie rating is 4 or greater and the popularity is greater than 80,\n",
    "print \"Highly recommended\".\n",
    "Else if the movie rating is 3 or greater and the popularity is greater than 70, \n",
    "print \"I recommended it, It is good\".\n",
    "Else if the movie rating is 2 or less and the popularity is greater than 60, \n",
    "print \"You should check it out!\".\n",
    "Else the movie rating is 2 or less and the popularity is less than 50, \n",
    "print \"Don't watch it, It is a waste of time\".\"\"\"\n",
    "if mv_dic[\"rating\"] >= 4 and mv_dic[\"pop_score\"] > 80:\n",
    "    print(\"Highly recommended\")\n",
    "elif mv_dic[\"rating\"] >= 3 and mv_dic[\"pop_score\"] > 70:\n",
    "    print(\"I recommended it, It is good\")\n",
    "elif mv_dic[\"rating\"] >= 2 and mv_dic[\"pop_score\"] > 60:\n",
    "    print(\"You should check it out!\")\n",
    "else :\n",
    "    print(\"Don't watch it, It is a waste of time\")"
   ]
  }
 ],
 "metadata": {
  "kernelspec": {
   "display_name": "Python 3 (ipykernel)",
   "language": "python",
   "name": "python3"
  },
  "language_info": {
   "codemirror_mode": {
    "name": "ipython",
    "version": 3
   },
   "file_extension": ".py",
   "mimetype": "text/x-python",
   "name": "python",
   "nbconvert_exporter": "python",
   "pygments_lexer": "ipython3",
   "version": "3.9.13"
  }
 },
 "nbformat": 4,
 "nbformat_minor": 5
}
